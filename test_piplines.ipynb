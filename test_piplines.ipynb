{
 "cells": [
  {
   "cell_type": "code",
   "execution_count": null,
   "metadata": {},
   "outputs": [],
   "source": [
    "from mmcv.utils import Config\n",
    "from mmdet.datasets import build_dataset\n",
    "from libs.utils.visualizer import draw_lane\n",
    "import cv2\n",
    "import numpy as np\n",
    "\n",
    "cfg = Config.fromfile(\"./configs/clrernet/culane/clrernet_culane_dla34.py\")\n",
    "if cfg.get(\"custom_imports\", None):\n",
    "    from mmcv.utils import import_modules_from_strings\n",
    "    import_modules_from_strings(**cfg[\"custom_imports\"])\n",
    "print(cfg)\n",
    "dataset=build_dataset(cfg.data.train)\n",
    "\n",
    "\n",
    "img = dataset[0]['img']._data * 255\n",
    "img = img.numpy().transpose(1,2,0)\n",
    "print(img.shape)\n",
    "cv2.imwrite('img.png',img)\n",
    "\n",
    "#dict_keys(['filename', 'sub_img_name', 'img', 'gt_points', 'id_classes', 'id_instances', 'img_shape', 'ori_shape', 'eval_shape', 'gt_masks', 'img_norm_cfg', 'pad_shape', 'scale_factor'])\n",
    "gt_points= dataset[0]['gt_points']\n",
    "print(len(gt_points),len(gt_points[0]))\n",
    "lane_coords = [np.array(lane).reshape(len(lane)//2,2) for lane in gt_points]\n",
    "print(lane_coords[0].shape)\n",
    "\n",
    "img_show =img.copy()\n",
    "for i in range(len(lane_coords)):\n",
    "    img_show = draw_lane(lane_coords[i],img_show,color=(0,255,0))\n",
    "\n",
    "cv2.imwrite('img_show.png',img_show)"
   ]
  },
  {
   "cell_type": "code",
   "execution_count": 4,
   "metadata": {},
   "outputs": [
    {
     "name": "stdout",
     "output_type": "stream",
     "text": [
      "Config (path: ./configs/clrernet/vil100/clrernet_vil100_dla34.py): {'model': {'type': 'CLRerNet', 'backbone': {'type': 'DLANet', 'dla': 'dla34', 'pretrained': True}, 'neck': {'type': 'CLRerNetFPN', 'in_channels': [128, 256, 512], 'out_channels': 64, 'num_outs': 3}, 'bbox_head': {'type': 'CLRerHead', 'anchor_generator': {'type': 'CLRerNetAnchorGenerator', 'num_priors': 192, 'num_points': 72}, 'img_w': 800, 'img_h': 320, 'prior_feat_channels': 64, 'fc_hidden_dim': 64, 'num_fc': 2, 'refine_layers': 3, 'sample_points': 36, 'attention': {'type': 'ROIGather'}, 'loss_cls': {'type': 'KorniaFocalLoss', 'alpha': 0.25, 'gamma': 2, 'loss_weight': 2.0}, 'loss_bbox': {'type': 'SmoothL1Loss', 'reduction': 'none', 'loss_weight': 0.2}, 'loss_iou': {'type': 'LaneIoULoss', 'lane_width': 0.003125, 'loss_weight': 4.0}, 'loss_seg': {'type': 'CLRNetSegLoss', 'loss_weight': 2.0, 'num_classes': 9, 'ignore_label': 255, 'bg_weight': 0.4}}, 'train_cfg': {'assigner': {'type': 'DynamicTopkAssigner', 'max_topk': 4, 'min_topk': 1, 'cost_combination': 1, 'cls_cost': {'type': 'FocalCost', 'weight': 1.0}, 'reg_cost': {'type': 'DistanceCost', 'weight': 0.0}, 'iou_dynamick': {'type': 'LaneIoUCost', 'lane_width': 0.003125, 'use_pred_start_end': False, 'use_giou': True}, 'iou_cost': {'type': 'LaneIoUCost', 'lane_width': 0.0125, 'use_pred_start_end': True, 'use_giou': True}}}, 'test_cfg': {'conf_threshold': 0.42, 'use_nms': True, 'as_lanes': True, 'nms_thres': 15, 'nms_topk': 8, 'ori_img_w': 1640, 'ori_img_h': 590, 'cut_height': 270}}, 'dataset_type': 'VIL100Dataset', 'data_root': '/home/seasoning/lane/datasets/VIL100', 'img_scale': (800, 320), 'img_norm_cfg': {'mean': [0.0, 0.0, 0.0], 'std': [255.0, 255.0, 255.0], 'to_rgb': False}, 'compose_cfg': {'bboxes': False, 'keypoints': True, 'masks': True}, 'train_al_pipeline': [{'type': 'Compose', 'params': {'bboxes': False, 'keypoints': True, 'masks': True}}, {'type': 'Resize', 'height': 320, 'width': 800, 'p': 1}, {'type': 'OneOf', 'transforms': [{'type': 'RGBShift', 'r_shift_limit': 10, 'g_shift_limit': 10, 'b_shift_limit': 10, 'p': 1.0}, {'type': 'HueSaturationValue', 'hue_shift_limit': (-10, 10), 'sat_shift_limit': (-15, 15), 'val_shift_limit': (-10, 10), 'p': 1.0}], 'p': 0.7}, {'type': 'JpegCompression', 'quality_lower': 85, 'quality_upper': 95, 'p': 0.2}, {'type': 'OneOf', 'transforms': [{'type': 'Blur', 'blur_limit': 3, 'p': 1.0}, {'type': 'MedianBlur', 'blur_limit': 3, 'p': 1.0}], 'p': 0.2}, {'type': 'RandomBrightness', 'limit': 0.2, 'p': 0.6}, {'type': 'ShiftScaleRotate', 'shift_limit': 0.1, 'scale_limit': (-0.2, 0.2), 'rotate_limit': 10, 'border_mode': 0, 'p': 0.6}, {'type': 'RandomResizedCrop', 'height': 320, 'width': 800, 'scale': (0.8, 1.2), 'ratio': (1.7, 2.7), 'p': 0.6}, {'type': 'Resize', 'height': 320, 'width': 800, 'p': 1}], 'val_al_pipeline': [{'type': 'Compose', 'params': {'bboxes': False, 'keypoints': True, 'masks': True}}, {'type': 'Resize', 'height': 320, 'width': 800, 'p': 1}], 'train_pipeline': [{'type': 'albumentation', 'pipelines': [{'type': 'Compose', 'params': {'bboxes': False, 'keypoints': True, 'masks': True}}, {'type': 'Resize', 'height': 320, 'width': 800, 'p': 1}, {'type': 'OneOf', 'transforms': [{'type': 'RGBShift', 'r_shift_limit': 10, 'g_shift_limit': 10, 'b_shift_limit': 10, 'p': 1.0}, {'type': 'HueSaturationValue', 'hue_shift_limit': (-10, 10), 'sat_shift_limit': (-15, 15), 'val_shift_limit': (-10, 10), 'p': 1.0}], 'p': 0.7}, {'type': 'JpegCompression', 'quality_lower': 85, 'quality_upper': 95, 'p': 0.2}, {'type': 'OneOf', 'transforms': [{'type': 'Blur', 'blur_limit': 3, 'p': 1.0}, {'type': 'MedianBlur', 'blur_limit': 3, 'p': 1.0}], 'p': 0.2}, {'type': 'RandomBrightness', 'limit': 0.2, 'p': 0.6}, {'type': 'ShiftScaleRotate', 'shift_limit': 0.1, 'scale_limit': (-0.2, 0.2), 'rotate_limit': 10, 'border_mode': 0, 'p': 0.6}, {'type': 'RandomResizedCrop', 'height': 320, 'width': 800, 'scale': (0.8, 1.2), 'ratio': (1.7, 2.7), 'p': 0.6}, {'type': 'Resize', 'height': 320, 'width': 800, 'p': 1}], 'cut_unsorted': True}, {'type': 'Normalize', 'mean': [0.0, 0.0, 0.0], 'std': [255.0, 255.0, 255.0], 'to_rgb': False}, {'type': 'DefaultFormatBundle'}, {'type': 'CollectCLRNet', 'max_lanes': 6, 'keys': ['img'], 'meta_keys': ['filename', 'sub_img_name', 'ori_shape', 'eval_shape', 'img_shape', 'img_norm_cfg', 'ori_shape', 'img_shape', 'gt_points', 'gt_masks', 'lanes']}], 'val_pipeline': [{'type': 'albumentation', 'pipelines': [{'type': 'Compose', 'params': {'bboxes': False, 'keypoints': True, 'masks': True}}, {'type': 'Resize', 'height': 320, 'width': 800, 'p': 1}], 'cut_unsorted': False}, {'type': 'Normalize', 'mean': [0.0, 0.0, 0.0], 'std': [255.0, 255.0, 255.0], 'to_rgb': False}, {'type': 'DefaultFormatBundle'}, {'type': 'CollectCLRNet', 'max_lanes': 6, 'keys': ['img'], 'meta_keys': ['filename', 'sub_img_name', 'ori_shape', 'img_shape', 'img_norm_cfg', 'ori_shape', 'img_shape', 'gt_points', 'crop_shape', 'crop_offset']}], 'data': {'samples_per_gpu': 24, 'workers_per_gpu': 8, 'train': {'type': 'VIL100Dataset', 'data_root': '/home/seasoning/lane/datasets/VIL100', 'data_list': '/home/seasoning/lane/datasets/VIL100/data/train.txt', 'diff_thr': 0, 'pipeline': [{'type': 'albumentation', 'pipelines': [{'type': 'Compose', 'params': {'bboxes': False, 'keypoints': True, 'masks': True}}, {'type': 'Resize', 'height': 320, 'width': 800, 'p': 1}, {'type': 'OneOf', 'transforms': [{'type': 'RGBShift', 'r_shift_limit': 10, 'g_shift_limit': 10, 'b_shift_limit': 10, 'p': 1.0}, {'type': 'HueSaturationValue', 'hue_shift_limit': (-10, 10), 'sat_shift_limit': (-15, 15), 'val_shift_limit': (-10, 10), 'p': 1.0}], 'p': 0.7}, {'type': 'JpegCompression', 'quality_lower': 85, 'quality_upper': 95, 'p': 0.2}, {'type': 'OneOf', 'transforms': [{'type': 'Blur', 'blur_limit': 3, 'p': 1.0}, {'type': 'MedianBlur', 'blur_limit': 3, 'p': 1.0}], 'p': 0.2}, {'type': 'RandomBrightness', 'limit': 0.2, 'p': 0.6}, {'type': 'ShiftScaleRotate', 'shift_limit': 0.1, 'scale_limit': (-0.2, 0.2), 'rotate_limit': 10, 'border_mode': 0, 'p': 0.6}, {'type': 'RandomResizedCrop', 'height': 320, 'width': 800, 'scale': (0.8, 1.2), 'ratio': (1.7, 2.7), 'p': 0.6}, {'type': 'Resize', 'height': 320, 'width': 800, 'p': 1}], 'cut_unsorted': True}, {'type': 'Normalize', 'mean': [0.0, 0.0, 0.0], 'std': [255.0, 255.0, 255.0], 'to_rgb': False}, {'type': 'DefaultFormatBundle'}, {'type': 'CollectCLRNet', 'max_lanes': 6, 'keys': ['img'], 'meta_keys': ['filename', 'sub_img_name', 'ori_shape', 'eval_shape', 'img_shape', 'img_norm_cfg', 'ori_shape', 'img_shape', 'gt_points', 'gt_masks', 'lanes']}], 'test_mode': False}, 'val': {'type': 'VIL100Dataset', 'data_root': '/home/seasoning/lane/datasets/VIL100', 'data_list': '/home/seasoning/lane/datasets/VIL100/data/test.txt', 'pipeline': [{'type': 'albumentation', 'pipelines': [{'type': 'Compose', 'params': {'bboxes': False, 'keypoints': True, 'masks': True}}, {'type': 'Resize', 'height': 320, 'width': 800, 'p': 1}], 'cut_unsorted': False}, {'type': 'Normalize', 'mean': [0.0, 0.0, 0.0], 'std': [255.0, 255.0, 255.0], 'to_rgb': False}, {'type': 'DefaultFormatBundle'}, {'type': 'CollectCLRNet', 'max_lanes': 6, 'keys': ['img'], 'meta_keys': ['filename', 'sub_img_name', 'ori_shape', 'img_shape', 'img_norm_cfg', 'ori_shape', 'img_shape', 'gt_points', 'crop_shape', 'crop_offset']}], 'test_mode': True}, 'test': {'type': 'VIL100Dataset', 'data_root': '/home/seasoning/lane/datasets/VIL100', 'data_list': '/home/seasoning/lane/datasets/VIL100/data/test.txt', 'pipeline': [{'type': 'albumentation', 'pipelines': [{'type': 'Compose', 'params': {'bboxes': False, 'keypoints': True, 'masks': True}}, {'type': 'Resize', 'height': 320, 'width': 800, 'p': 1}], 'cut_unsorted': False}, {'type': 'Normalize', 'mean': [0.0, 0.0, 0.0], 'std': [255.0, 255.0, 255.0], 'to_rgb': False}, {'type': 'DefaultFormatBundle'}, {'type': 'CollectCLRNet', 'max_lanes': 6, 'keys': ['img'], 'meta_keys': ['filename', 'sub_img_name', 'ori_shape', 'img_shape', 'img_norm_cfg', 'ori_shape', 'img_shape', 'gt_points', 'crop_shape', 'crop_offset']}], 'test_mode': True}}, 'checkpoint_config': {'interval': 50}, 'log_config': {'interval': 100, 'hooks': [{'type': 'TextLoggerHook'}, {'type': 'TensorboardLoggerHookEpoch'}]}, 'device_ids': '0', 'dist_params': {'backend': 'nccl'}, 'log_level': 'INFO', 'load_from': None, 'resume_from': None, 'workflow': [('train', 1)], 'evaluation': {'interval': 3, 'metric': 'F1'}, 'custom_imports': {'imports': ['libs.models', 'libs.datasets', 'libs.core.bbox', 'libs.core.anchor', 'libs.core.hook'], 'allow_failed_imports': False}, 'cfg_name': 'clrernet_curvelanes_dla34.py', 'total_epochs': 50, 'optimizer': {'type': 'AdamW', 'lr': 0.0006}, 'optimizer_config': {'grad_clip': None}, 'lr_config': {'policy': 'CosineAnnealing', 'min_lr': 0.0, 'by_epoch': False}}\n",
      "Geting VIL100 dataset...\n",
      "8000 data are loaded\n"
     ]
    },
    {
     "ename": "TypeError",
     "evalue": "can't multiply sequence by non-int of type 'float'",
     "output_type": "error",
     "traceback": [
      "\u001b[0;31m---------------------------------------------------------------------------\u001b[0m",
      "\u001b[0;31mTypeError\u001b[0m                                 Traceback (most recent call last)",
      "Cell \u001b[0;32mIn[4], line 15\u001b[0m\n\u001b[1;32m     12\u001b[0m dataset\u001b[38;5;241m=\u001b[39mbuild_dataset(cfg\u001b[38;5;241m.\u001b[39mdata\u001b[38;5;241m.\u001b[39mtrain)\n\u001b[1;32m     13\u001b[0m \u001b[38;5;66;03m# print(dataset)\u001b[39;00m\n\u001b[0;32m---> 15\u001b[0m data_0 \u001b[38;5;241m=\u001b[39m \u001b[43mdataset\u001b[49m\u001b[43m[\u001b[49m\u001b[38;5;241;43m0\u001b[39;49m\u001b[43m]\u001b[49m\n\u001b[1;32m     16\u001b[0m img \u001b[38;5;241m=\u001b[39m data_0[\u001b[38;5;124m'\u001b[39m\u001b[38;5;124mimg\u001b[39m\u001b[38;5;124m'\u001b[39m]\n\u001b[1;32m     17\u001b[0m gt_bboxes \u001b[38;5;241m=\u001b[39m data_0[\u001b[38;5;124m'\u001b[39m\u001b[38;5;124mgt_bboxes\u001b[39m\u001b[38;5;124m'\u001b[39m]\n",
      "File \u001b[0;32m~/miniconda3/envs/clrer/lib/python3.10/site-packages/mmdet/datasets/custom.py:220\u001b[0m, in \u001b[0;36mCustomDataset.__getitem__\u001b[0;34m(self, idx)\u001b[0m\n\u001b[1;32m    218\u001b[0m     \u001b[38;5;28;01mreturn\u001b[39;00m \u001b[38;5;28mself\u001b[39m\u001b[38;5;241m.\u001b[39mprepare_test_img(idx)\n\u001b[1;32m    219\u001b[0m \u001b[38;5;28;01mwhile\u001b[39;00m \u001b[38;5;28;01mTrue\u001b[39;00m:\n\u001b[0;32m--> 220\u001b[0m     data \u001b[38;5;241m=\u001b[39m \u001b[38;5;28;43mself\u001b[39;49m\u001b[38;5;241;43m.\u001b[39;49m\u001b[43mprepare_train_img\u001b[49m\u001b[43m(\u001b[49m\u001b[43midx\u001b[49m\u001b[43m)\u001b[49m\n\u001b[1;32m    221\u001b[0m     \u001b[38;5;28;01mif\u001b[39;00m data \u001b[38;5;129;01mis\u001b[39;00m \u001b[38;5;28;01mNone\u001b[39;00m:\n\u001b[1;32m    222\u001b[0m         idx \u001b[38;5;241m=\u001b[39m \u001b[38;5;28mself\u001b[39m\u001b[38;5;241m.\u001b[39m_rand_another(idx)\n",
      "File \u001b[0;32m~/VOD/CLRerNet/libs/datasets/vil100_dataset.py:143\u001b[0m, in \u001b[0;36mVIL100Dataset.prepare_train_img\u001b[0;34m(self, idx)\u001b[0m\n\u001b[1;32m    140\u001b[0m     \u001b[38;5;28;01massert\u001b[39;00m mask\u001b[38;5;241m.\u001b[39mshape[:\u001b[38;5;241m2\u001b[39m] \u001b[38;5;241m==\u001b[39m crop_shape[:\u001b[38;5;241m2\u001b[39m]\n\u001b[1;32m    141\u001b[0m     results[\u001b[38;5;124m\"\u001b[39m\u001b[38;5;124mgt_masks\u001b[39m\u001b[38;5;124m\"\u001b[39m] \u001b[38;5;241m=\u001b[39m mask\n\u001b[0;32m--> 143\u001b[0m \u001b[38;5;28;01mreturn\u001b[39;00m \u001b[38;5;28;43mself\u001b[39;49m\u001b[38;5;241;43m.\u001b[39;49m\u001b[43mpipeline\u001b[49m\u001b[43m(\u001b[49m\u001b[43mresults\u001b[49m\u001b[43m)\u001b[49m\n",
      "File \u001b[0;32m~/VOD/CLRerNet/libs/datasets/pipelines/compose.py:35\u001b[0m, in \u001b[0;36mCompose.__call__\u001b[0;34m(self, data)\u001b[0m\n\u001b[1;32m     33\u001b[0m \u001b[38;5;28;01mdef\u001b[39;00m \u001b[38;5;21m__call__\u001b[39m(\u001b[38;5;28mself\u001b[39m, data):\n\u001b[1;32m     34\u001b[0m     \u001b[38;5;28;01mfor\u001b[39;00m t \u001b[38;5;129;01min\u001b[39;00m \u001b[38;5;28mself\u001b[39m\u001b[38;5;241m.\u001b[39mtransforms:\n\u001b[0;32m---> 35\u001b[0m         data \u001b[38;5;241m=\u001b[39m \u001b[43mt\u001b[49m\u001b[43m(\u001b[49m\u001b[43mdata\u001b[49m\u001b[43m)\u001b[49m\n\u001b[1;32m     36\u001b[0m         \u001b[38;5;28;01mif\u001b[39;00m data \u001b[38;5;129;01mis\u001b[39;00m \u001b[38;5;28;01mNone\u001b[39;00m:\n\u001b[1;32m     37\u001b[0m             \u001b[38;5;28;01mreturn\u001b[39;00m \u001b[38;5;28;01mNone\u001b[39;00m\n",
      "File \u001b[0;32m~/VOD/CLRerNet/libs/datasets/pipelines/alaug.py:107\u001b[0m, in \u001b[0;36mAlaug.__call__\u001b[0;34m(self, data)\u001b[0m\n\u001b[1;32m    105\u001b[0m data_org \u001b[38;5;241m=\u001b[39m copy\u001b[38;5;241m.\u001b[39mdeepcopy(data)\n\u001b[1;32m    106\u001b[0m \u001b[38;5;28;01mfor\u001b[39;00m i \u001b[38;5;129;01min\u001b[39;00m \u001b[38;5;28mrange\u001b[39m(\u001b[38;5;241m30\u001b[39m):\n\u001b[0;32m--> 107\u001b[0m     data_aug \u001b[38;5;241m=\u001b[39m \u001b[38;5;28;43mself\u001b[39;49m\u001b[38;5;241;43m.\u001b[39;49m\u001b[43maug\u001b[49m\u001b[43m(\u001b[49m\u001b[43mdata\u001b[49m\u001b[43m)\u001b[49m\n\u001b[1;32m    108\u001b[0m     \u001b[38;5;28;01mif\u001b[39;00m \u001b[38;5;28mself\u001b[39m\u001b[38;5;241m.\u001b[39mis_sorted(data_aug[\u001b[38;5;124m\"\u001b[39m\u001b[38;5;124mgt_points\u001b[39m\u001b[38;5;124m\"\u001b[39m]):\n\u001b[1;32m    109\u001b[0m         \u001b[38;5;28;01mreturn\u001b[39;00m data_aug\n",
      "File \u001b[0;32m~/VOD/CLRerNet/libs/datasets/pipelines/alaug.py:180\u001b[0m, in \u001b[0;36mAlaug.aug\u001b[0;34m(self, data)\u001b[0m\n\u001b[1;32m    177\u001b[0m     \u001b[38;5;28;01melse\u001b[39;00m:\n\u001b[1;32m    178\u001b[0m         keypoints_val \u001b[38;5;241m=\u001b[39m keypoints_val \u001b[38;5;241m+\u001b[39m points_val\n\u001b[0;32m--> 180\u001b[0m aug \u001b[38;5;241m=\u001b[39m \u001b[38;5;28;43mself\u001b[39;49m\u001b[38;5;241;43m.\u001b[39;49m\u001b[43m__augmentor\u001b[49m\u001b[43m(\u001b[49m\n\u001b[1;32m    181\u001b[0m \u001b[43m    \u001b[49m\u001b[43mimage\u001b[49m\u001b[38;5;241;43m=\u001b[39;49m\u001b[43mimg\u001b[49m\u001b[43m,\u001b[49m\n\u001b[1;32m    182\u001b[0m \u001b[43m    \u001b[49m\u001b[43mkeypoints\u001b[49m\u001b[38;5;241;43m=\u001b[39;49m\u001b[43mkeypoints_val\u001b[49m\u001b[43m,\u001b[49m\n\u001b[1;32m    183\u001b[0m \u001b[43m    \u001b[49m\u001b[43mbboxes\u001b[49m\u001b[38;5;241;43m=\u001b[39;49m\u001b[43mbboxes\u001b[49m\u001b[43m,\u001b[49m\n\u001b[1;32m    184\u001b[0m \u001b[43m    \u001b[49m\u001b[43mmask\u001b[49m\u001b[38;5;241;43m=\u001b[39;49m\u001b[43mmasks\u001b[49m\u001b[43m,\u001b[49m\n\u001b[1;32m    185\u001b[0m \u001b[43m    \u001b[49m\u001b[43mbbox_labels\u001b[49m\u001b[38;5;241;43m=\u001b[39;49m\u001b[43mbbox_labels\u001b[49m\u001b[43m,\u001b[49m\n\u001b[1;32m    186\u001b[0m \u001b[43m\u001b[49m\u001b[43m)\u001b[49m\n\u001b[1;32m    187\u001b[0m data[\u001b[38;5;124m\"\u001b[39m\u001b[38;5;124mimg\u001b[39m\u001b[38;5;124m\"\u001b[39m] \u001b[38;5;241m=\u001b[39m aug[\u001b[38;5;124m\"\u001b[39m\u001b[38;5;124mimage\u001b[39m\u001b[38;5;124m\"\u001b[39m]\n\u001b[1;32m    188\u001b[0m data[\u001b[38;5;124m\"\u001b[39m\u001b[38;5;124mimg_shape\u001b[39m\u001b[38;5;124m\"\u001b[39m] \u001b[38;5;241m=\u001b[39m data[\u001b[38;5;124m\"\u001b[39m\u001b[38;5;124mimg\u001b[39m\u001b[38;5;124m\"\u001b[39m]\u001b[38;5;241m.\u001b[39mshape\n",
      "File \u001b[0;32m~/miniconda3/envs/clrer/lib/python3.10/site-packages/albumentations/core/composition.py:176\u001b[0m, in \u001b[0;36mCompose.__call__\u001b[0;34m(self, force_apply, **data)\u001b[0m\n\u001b[1;32m    173\u001b[0m     \u001b[38;5;28;01mfor\u001b[39;00m p \u001b[38;5;129;01min\u001b[39;00m \u001b[38;5;28mself\u001b[39m\u001b[38;5;241m.\u001b[39mprocessors\u001b[38;5;241m.\u001b[39mvalues():\n\u001b[1;32m    174\u001b[0m         p\u001b[38;5;241m.\u001b[39mpreprocess(data)\n\u001b[0;32m--> 176\u001b[0m data \u001b[38;5;241m=\u001b[39m \u001b[43mt\u001b[49m\u001b[43m(\u001b[49m\u001b[43mforce_apply\u001b[49m\u001b[38;5;241;43m=\u001b[39;49m\u001b[43mforce_apply\u001b[49m\u001b[43m,\u001b[49m\u001b[43m \u001b[49m\u001b[38;5;241;43m*\u001b[39;49m\u001b[38;5;241;43m*\u001b[39;49m\u001b[43mdata\u001b[49m\u001b[43m)\u001b[49m\n\u001b[1;32m    178\u001b[0m \u001b[38;5;28;01mif\u001b[39;00m dual_start_end \u001b[38;5;129;01mis\u001b[39;00m \u001b[38;5;129;01mnot\u001b[39;00m \u001b[38;5;28;01mNone\u001b[39;00m \u001b[38;5;129;01mand\u001b[39;00m idx \u001b[38;5;241m==\u001b[39m dual_start_end[\u001b[38;5;241m1\u001b[39m]:\n\u001b[1;32m    179\u001b[0m     \u001b[38;5;28;01mfor\u001b[39;00m p \u001b[38;5;129;01min\u001b[39;00m \u001b[38;5;28mself\u001b[39m\u001b[38;5;241m.\u001b[39mprocessors\u001b[38;5;241m.\u001b[39mvalues():\n",
      "File \u001b[0;32m~/miniconda3/envs/clrer/lib/python3.10/site-packages/albumentations/core/transforms_interface.py:87\u001b[0m, in \u001b[0;36mBasicTransform.__call__\u001b[0;34m(self, force_apply, **kwargs)\u001b[0m\n\u001b[1;32m     82\u001b[0m             warn(\n\u001b[1;32m     83\u001b[0m                 \u001b[38;5;28mself\u001b[39m\u001b[38;5;241m.\u001b[39mget_class_fullname() \u001b[38;5;241m+\u001b[39m \u001b[38;5;124m\"\u001b[39m\u001b[38;5;124m could work incorrectly in ReplayMode for other input data\u001b[39m\u001b[38;5;124m\"\u001b[39m\n\u001b[1;32m     84\u001b[0m                 \u001b[38;5;124m\"\u001b[39m\u001b[38;5;124m because its\u001b[39m\u001b[38;5;124m'\u001b[39m\u001b[38;5;124m params depend on targets.\u001b[39m\u001b[38;5;124m\"\u001b[39m\n\u001b[1;32m     85\u001b[0m             )\n\u001b[1;32m     86\u001b[0m         kwargs[\u001b[38;5;28mself\u001b[39m\u001b[38;5;241m.\u001b[39msave_key][\u001b[38;5;28mid\u001b[39m(\u001b[38;5;28mself\u001b[39m)] \u001b[38;5;241m=\u001b[39m deepcopy(params)\n\u001b[0;32m---> 87\u001b[0m     \u001b[38;5;28;01mreturn\u001b[39;00m \u001b[38;5;28;43mself\u001b[39;49m\u001b[38;5;241;43m.\u001b[39;49m\u001b[43mapply_with_params\u001b[49m\u001b[43m(\u001b[49m\u001b[43mparams\u001b[49m\u001b[43m,\u001b[49m\u001b[43m \u001b[49m\u001b[38;5;241;43m*\u001b[39;49m\u001b[38;5;241;43m*\u001b[39;49m\u001b[43mkwargs\u001b[49m\u001b[43m)\u001b[49m\n\u001b[1;32m     89\u001b[0m \u001b[38;5;28;01mreturn\u001b[39;00m kwargs\n",
      "File \u001b[0;32m~/miniconda3/envs/clrer/lib/python3.10/site-packages/albumentations/core/transforms_interface.py:100\u001b[0m, in \u001b[0;36mBasicTransform.apply_with_params\u001b[0;34m(self, params, force_apply, **kwargs)\u001b[0m\n\u001b[1;32m     98\u001b[0m     target_function \u001b[38;5;241m=\u001b[39m \u001b[38;5;28mself\u001b[39m\u001b[38;5;241m.\u001b[39m_get_target_function(key)\n\u001b[1;32m     99\u001b[0m     target_dependencies \u001b[38;5;241m=\u001b[39m {k: kwargs[k] \u001b[38;5;28;01mfor\u001b[39;00m k \u001b[38;5;129;01min\u001b[39;00m \u001b[38;5;28mself\u001b[39m\u001b[38;5;241m.\u001b[39mtarget_dependence\u001b[38;5;241m.\u001b[39mget(key, [])}\n\u001b[0;32m--> 100\u001b[0m     res[key] \u001b[38;5;241m=\u001b[39m \u001b[43mtarget_function\u001b[49m\u001b[43m(\u001b[49m\u001b[43marg\u001b[49m\u001b[43m,\u001b[49m\u001b[43m \u001b[49m\u001b[38;5;241;43m*\u001b[39;49m\u001b[38;5;241;43m*\u001b[39;49m\u001b[38;5;28;43mdict\u001b[39;49m\u001b[43m(\u001b[49m\u001b[43mparams\u001b[49m\u001b[43m,\u001b[49m\u001b[43m \u001b[49m\u001b[38;5;241;43m*\u001b[39;49m\u001b[38;5;241;43m*\u001b[39;49m\u001b[43mtarget_dependencies\u001b[49m\u001b[43m)\u001b[49m\u001b[43m)\u001b[49m\n\u001b[1;32m    101\u001b[0m \u001b[38;5;28;01melse\u001b[39;00m:\n\u001b[1;32m    102\u001b[0m     res[key] \u001b[38;5;241m=\u001b[39m \u001b[38;5;28;01mNone\u001b[39;00m\n",
      "File \u001b[0;32m~/miniconda3/envs/clrer/lib/python3.10/site-packages/albumentations/core/transforms_interface.py:220\u001b[0m, in \u001b[0;36mDualTransform.apply_to_keypoints\u001b[0;34m(self, keypoints, **params)\u001b[0m\n\u001b[1;32m    219\u001b[0m \u001b[38;5;28;01mdef\u001b[39;00m \u001b[38;5;21mapply_to_keypoints\u001b[39m(\u001b[38;5;28mself\u001b[39m, keypoints, \u001b[38;5;241m*\u001b[39m\u001b[38;5;241m*\u001b[39mparams):\n\u001b[0;32m--> 220\u001b[0m     \u001b[38;5;28;01mreturn\u001b[39;00m [\u001b[38;5;28mself\u001b[39m\u001b[38;5;241m.\u001b[39mapply_to_keypoint(\u001b[38;5;28mtuple\u001b[39m(keypoint[:\u001b[38;5;241m4\u001b[39m]), \u001b[38;5;241m*\u001b[39m\u001b[38;5;241m*\u001b[39mparams) \u001b[38;5;241m+\u001b[39m \u001b[38;5;28mtuple\u001b[39m(keypoint[\u001b[38;5;241m4\u001b[39m:]) \u001b[38;5;28;01mfor\u001b[39;00m keypoint \u001b[38;5;129;01min\u001b[39;00m keypoints]\n",
      "File \u001b[0;32m~/miniconda3/envs/clrer/lib/python3.10/site-packages/albumentations/core/transforms_interface.py:220\u001b[0m, in \u001b[0;36m<listcomp>\u001b[0;34m(.0)\u001b[0m\n\u001b[1;32m    219\u001b[0m \u001b[38;5;28;01mdef\u001b[39;00m \u001b[38;5;21mapply_to_keypoints\u001b[39m(\u001b[38;5;28mself\u001b[39m, keypoints, \u001b[38;5;241m*\u001b[39m\u001b[38;5;241m*\u001b[39mparams):\n\u001b[0;32m--> 220\u001b[0m     \u001b[38;5;28;01mreturn\u001b[39;00m [\u001b[38;5;28;43mself\u001b[39;49m\u001b[38;5;241;43m.\u001b[39;49m\u001b[43mapply_to_keypoint\u001b[49m\u001b[43m(\u001b[49m\u001b[38;5;28;43mtuple\u001b[39;49m\u001b[43m(\u001b[49m\u001b[43mkeypoint\u001b[49m\u001b[43m[\u001b[49m\u001b[43m:\u001b[49m\u001b[38;5;241;43m4\u001b[39;49m\u001b[43m]\u001b[49m\u001b[43m)\u001b[49m\u001b[43m,\u001b[49m\u001b[43m \u001b[49m\u001b[38;5;241;43m*\u001b[39;49m\u001b[38;5;241;43m*\u001b[39;49m\u001b[43mparams\u001b[49m\u001b[43m)\u001b[49m \u001b[38;5;241m+\u001b[39m \u001b[38;5;28mtuple\u001b[39m(keypoint[\u001b[38;5;241m4\u001b[39m:]) \u001b[38;5;28;01mfor\u001b[39;00m keypoint \u001b[38;5;129;01min\u001b[39;00m keypoints]\n",
      "File \u001b[0;32m~/miniconda3/envs/clrer/lib/python3.10/site-packages/albumentations/augmentations/transforms.py:443\u001b[0m, in \u001b[0;36mResize.apply_to_keypoint\u001b[0;34m(self, keypoint, **params)\u001b[0m\n\u001b[1;32m    441\u001b[0m scale_x \u001b[38;5;241m=\u001b[39m \u001b[38;5;28mself\u001b[39m\u001b[38;5;241m.\u001b[39mwidth \u001b[38;5;241m/\u001b[39m width\n\u001b[1;32m    442\u001b[0m scale_y \u001b[38;5;241m=\u001b[39m \u001b[38;5;28mself\u001b[39m\u001b[38;5;241m.\u001b[39mheight \u001b[38;5;241m/\u001b[39m height\n\u001b[0;32m--> 443\u001b[0m \u001b[38;5;28;01mreturn\u001b[39;00m \u001b[43mF\u001b[49m\u001b[38;5;241;43m.\u001b[39;49m\u001b[43mkeypoint_scale\u001b[49m\u001b[43m(\u001b[49m\u001b[43mkeypoint\u001b[49m\u001b[43m,\u001b[49m\u001b[43m \u001b[49m\u001b[43mscale_x\u001b[49m\u001b[43m,\u001b[49m\u001b[43m \u001b[49m\u001b[43mscale_y\u001b[49m\u001b[43m)\u001b[49m\n",
      "File \u001b[0;32m~/miniconda3/envs/clrer/lib/python3.10/site-packages/albumentations/augmentations/functional.py:1771\u001b[0m, in \u001b[0;36mkeypoint_scale\u001b[0;34m(keypoint, scale_x, scale_y)\u001b[0m\n\u001b[1;32m   1759\u001b[0m \u001b[38;5;250m\u001b[39m\u001b[38;5;124;03m\"\"\"Scales a keypoint by scale_x and scale_y.\u001b[39;00m\n\u001b[1;32m   1760\u001b[0m \n\u001b[1;32m   1761\u001b[0m \u001b[38;5;124;03mArgs:\u001b[39;00m\n\u001b[0;32m   (...)\u001b[0m\n\u001b[1;32m   1768\u001b[0m \n\u001b[1;32m   1769\u001b[0m \u001b[38;5;124;03m\"\"\"\u001b[39;00m\n\u001b[1;32m   1770\u001b[0m x, y, angle, scale \u001b[38;5;241m=\u001b[39m keypoint[:\u001b[38;5;241m4\u001b[39m]\n\u001b[0;32m-> 1771\u001b[0m \u001b[38;5;28;01mreturn\u001b[39;00m \u001b[43mx\u001b[49m\u001b[43m \u001b[49m\u001b[38;5;241;43m*\u001b[39;49m\u001b[43m \u001b[49m\u001b[43mscale_x\u001b[49m, y \u001b[38;5;241m*\u001b[39m scale_y, angle, scale \u001b[38;5;241m*\u001b[39m \u001b[38;5;28mmax\u001b[39m(scale_x, scale_y)\n",
      "\u001b[0;31mTypeError\u001b[0m: can't multiply sequence by non-int of type 'float'"
     ]
    }
   ],
   "source": [
    "from mmcv.utils import Config\n",
    "from mmdet.datasets import build_dataset\n",
    "from libs.utils.visualizer import draw_lane\n",
    "import cv2\n",
    "import numpy as np\n",
    "\n",
    "cfg = Config.fromfile(\"./configs/clrernet/vil100/clrernet_vil100_dla34.py\")\n",
    "if cfg.get(\"custom_imports\", None):\n",
    "    from mmcv.utils import import_modules_from_strings\n",
    "    import_modules_from_strings(**cfg[\"custom_imports\"])\n",
    "print(cfg)\n",
    "dataset=build_dataset(cfg.data.train)\n",
    "# print(dataset)\n",
    "\n",
    "data_0 = dataset[0]\n",
    "img = data_0['img']\n",
    "gt_bboxes = data_0['gt_bboxes']"
   ]
  },
  {
   "cell_type": "code",
   "execution_count": 5,
   "metadata": {},
   "outputs": [],
   "source": [
    "img_prefix = \"/home/seasoning/lane/datasets/VIL100\"\n",
    "test_mode = False\n"
   ]
  },
  {
   "cell_type": "code",
   "execution_count": null,
   "metadata": {},
   "outputs": [],
   "source": [
    "def parse_datalist(self, data_list):\n",
    "    \"\"\"\n",
    "    Read image data list.\n",
    "    Args:\n",
    "        data_list (str): Data list file path.\n",
    "    Returns:\n",
    "        List[str]: List of image paths.\n",
    "    \"\"\"\n",
    "    print(\"Geting VIL100 dataset...\")\n",
    "    with open(data_list, \"r\") as img_list_file:\n",
    "        img_infos = [\n",
    "            img_name.strip()[1:] for img_name in img_list_file.readlines()\n",
    "        ]\n",
    "    if not self.test_mode:\n",
    "        annotations = [\n",
    "            img_path.replace(\"JPEGImages\", \"Json\") + \".json\" for img_path in img_infos\n",
    "        ]\n",
    "        mask_paths = [\n",
    "            img_path[:-3].replace(\"JPEGImages\", \"Annotations\") + \"png\" for img_path in img_infos\n",
    "        ]\n",
    "    else:\n",
    "        annotations = []\n",
    "        mask_paths = []\n",
    "    return img_infos, annotations, mask_paths\n",
    "\n",
    "(img_infos, annotations, mask_paths) = parse_dataset(img_prefix+\"/data/train.txt\")"
   ]
  }
 ],
 "metadata": {
  "kernelspec": {
   "display_name": "clrer",
   "language": "python",
   "name": "python3"
  },
  "language_info": {
   "codemirror_mode": {
    "name": "ipython",
    "version": 3
   },
   "file_extension": ".py",
   "mimetype": "text/x-python",
   "name": "python",
   "nbconvert_exporter": "python",
   "pygments_lexer": "ipython3",
   "version": "3.10.14"
  }
 },
 "nbformat": 4,
 "nbformat_minor": 2
}

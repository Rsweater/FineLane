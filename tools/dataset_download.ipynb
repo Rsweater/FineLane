{
 "cells": [
  {
   "cell_type": "code",
   "execution_count": 1,
   "metadata": {},
   "outputs": [
    {
     "name": "stdout",
     "output_type": "stream",
     "text": [
      "Looking in indexes: https://pypi.tuna.tsinghua.edu.cn/simple\n",
      "Requirement already satisfied: openxlab in /home/seasoning/miniconda3/envs/clrer/lib/python3.10/site-packages (0.1.1)\n",
      "Requirement already satisfied: filelock~=3.14.0 in /home/seasoning/miniconda3/envs/clrer/lib/python3.10/site-packages (from openxlab) (3.14.0)\n",
      "Requirement already satisfied: oss2~=2.17.0 in /home/seasoning/miniconda3/envs/clrer/lib/python3.10/site-packages (from openxlab) (2.17.0)\n",
      "Requirement already satisfied: packaging~=24.0 in /home/seasoning/miniconda3/envs/clrer/lib/python3.10/site-packages (from openxlab) (24.1)\n",
      "Requirement already satisfied: pytz~=2023.3 in /home/seasoning/miniconda3/envs/clrer/lib/python3.10/site-packages (from openxlab) (2023.4)\n",
      "Requirement already satisfied: pyyaml~=6.0 in /home/seasoning/miniconda3/envs/clrer/lib/python3.10/site-packages (from openxlab) (6.0.1)\n",
      "Requirement already satisfied: requests~=2.28.2 in /home/seasoning/miniconda3/envs/clrer/lib/python3.10/site-packages (from openxlab) (2.28.2)\n",
      "Requirement already satisfied: rich~=13.4.2 in /home/seasoning/miniconda3/envs/clrer/lib/python3.10/site-packages (from openxlab) (13.4.2)\n",
      "Requirement already satisfied: setuptools~=60.2.0 in /home/seasoning/miniconda3/envs/clrer/lib/python3.10/site-packages (from openxlab) (60.2.0)\n",
      "Requirement already satisfied: tqdm~=4.65.0 in /home/seasoning/miniconda3/envs/clrer/lib/python3.10/site-packages (from openxlab) (4.65.2)\n",
      "Requirement already satisfied: crcmod>=1.7 in /home/seasoning/miniconda3/envs/clrer/lib/python3.10/site-packages (from oss2~=2.17.0->openxlab) (1.7)\n",
      "Requirement already satisfied: pycryptodome>=3.4.7 in /home/seasoning/miniconda3/envs/clrer/lib/python3.10/site-packages (from oss2~=2.17.0->openxlab) (3.20.0)\n",
      "Requirement already satisfied: aliyun-python-sdk-kms>=2.4.1 in /home/seasoning/miniconda3/envs/clrer/lib/python3.10/site-packages (from oss2~=2.17.0->openxlab) (2.16.3)\n",
      "Requirement already satisfied: aliyun-python-sdk-core>=2.13.12 in /home/seasoning/miniconda3/envs/clrer/lib/python3.10/site-packages (from oss2~=2.17.0->openxlab) (2.15.1)\n",
      "Requirement already satisfied: six in /home/seasoning/miniconda3/envs/clrer/lib/python3.10/site-packages (from oss2~=2.17.0->openxlab) (1.16.0)\n",
      "Requirement already satisfied: charset-normalizer<4,>=2 in /home/seasoning/miniconda3/envs/clrer/lib/python3.10/site-packages (from requests~=2.28.2->openxlab) (2.0.4)\n",
      "Requirement already satisfied: idna<4,>=2.5 in /home/seasoning/miniconda3/envs/clrer/lib/python3.10/site-packages (from requests~=2.28.2->openxlab) (3.7)\n",
      "Requirement already satisfied: urllib3<1.27,>=1.21.1 in /home/seasoning/miniconda3/envs/clrer/lib/python3.10/site-packages (from requests~=2.28.2->openxlab) (1.26.19)\n",
      "Requirement already satisfied: certifi>=2017.4.17 in /home/seasoning/miniconda3/envs/clrer/lib/python3.10/site-packages (from requests~=2.28.2->openxlab) (2024.7.4)\n",
      "Requirement already satisfied: markdown-it-py>=2.2.0 in /home/seasoning/miniconda3/envs/clrer/lib/python3.10/site-packages (from rich~=13.4.2->openxlab) (3.0.0)\n",
      "Requirement already satisfied: pygments<3.0.0,>=2.13.0 in /home/seasoning/miniconda3/envs/clrer/lib/python3.10/site-packages (from rich~=13.4.2->openxlab) (2.18.0)\n",
      "Requirement already satisfied: jmespath<1.0.0,>=0.9.3 in /home/seasoning/miniconda3/envs/clrer/lib/python3.10/site-packages (from aliyun-python-sdk-core>=2.13.12->oss2~=2.17.0->openxlab) (0.10.0)\n",
      "Requirement already satisfied: cryptography>=2.6.0 in /home/seasoning/miniconda3/envs/clrer/lib/python3.10/site-packages (from aliyun-python-sdk-core>=2.13.12->oss2~=2.17.0->openxlab) (42.0.8)\n",
      "Requirement already satisfied: mdurl~=0.1 in /home/seasoning/miniconda3/envs/clrer/lib/python3.10/site-packages (from markdown-it-py>=2.2.0->rich~=13.4.2->openxlab) (0.1.2)\n",
      "Requirement already satisfied: cffi>=1.12 in /home/seasoning/miniconda3/envs/clrer/lib/python3.10/site-packages (from cryptography>=2.6.0->aliyun-python-sdk-core>=2.13.12->oss2~=2.17.0->openxlab) (1.16.0)\n",
      "Requirement already satisfied: pycparser in /home/seasoning/miniconda3/envs/clrer/lib/python3.10/site-packages (from cffi>=1.12->cryptography>=2.6.0->aliyun-python-sdk-core>=2.13.12->oss2~=2.17.0->openxlab) (2.22)\n",
      "Note: you may need to restart the kernel to use updated packages.\n"
     ]
    }
   ],
   "source": [
    "\n",
    "%pip install openxlab \n"
   ]
  },
  {
   "cell_type": "code",
   "execution_count": 2,
   "metadata": {},
   "outputs": [
    {
     "name": "stderr",
     "output_type": "stream",
     "text": [
      "AK and SK have been configured. You can set relogin as true to force a relogin.\n"
     ]
    },
    {
     "data": {
      "text/html": [
       "<pre style=\"white-space:pre;overflow-x:auto;line-height:normal;font-family:Menlo,'DejaVu Sans Mono',consolas,'Courier New',monospace\">+-----------+-----------------------------------------------------------------------------------------------------+\n",
       "|<span style=\"color: #008080; text-decoration-color: #008080; font-weight: bold\"> Field     </span>|<span style=\"color: #008080; text-decoration-color: #008080; font-weight: bold\"> Content                                                                                             </span>|\n",
       "+-----------+-----------------------------------------------------------------------------------------------------+\n",
       "| Name      | OpenDataLab/tusimple_lane                                                                           |\n",
       "+-----------+-----------------------------------------------------------------------------------------------------+\n",
       "| Introduct | Complexity:Good and medium  weather  Condition  Different  daytime  2-lane/3-lane/4-lane/  or  more |\n",
       "| ion       | high...                                                                                             |\n",
       "+-----------+-----------------------------------------------------------------------------------------------------+\n",
       "| Author    | Tusimple                                                                                            |\n",
       "+-----------+-----------------------------------------------------------------------------------------------------+\n",
       "| Data Type |                                                                                                     |\n",
       "+-----------+-----------------------------------------------------------------------------------------------------+\n",
       "| Label     |                                                                                                     |\n",
       "| Type      |                                                                                                     |\n",
       "+-----------+-----------------------------------------------------------------------------------------------------+\n",
       "| Task Type |                                                                                                     |\n",
       "+-----------+-----------------------------------------------------------------------------------------------------+\n",
       "| File List |  Total Size: 26.0G                                                                                  |\n",
       "|           |  +----------------------------+---------+                                                           |\n",
       "|           |  |<span style=\"color: #008080; text-decoration-color: #008080\"> File                       </span>|<span style=\"color: #008080; text-decoration-color: #008080\">    Size </span>|                                                           |\n",
       "|           |  +----------------------------+---------+                                                           |\n",
       "|           |  | - /                        |         |                                                           |\n",
       "|           |  +----------------------------+---------+                                                           |\n",
       "|           |  |    - README.md             | 652.00B |                                                           |\n",
       "|           |  +----------------------------+---------+                                                           |\n",
       "|           |  |    - metafile.yaml         | 209.00B |                                                           |\n",
       "|           |  +----------------------------+---------+                                                           |\n",
       "|           |  | - /raw/                    |         |                                                           |\n",
       "|           |  +----------------------------+---------+                                                           |\n",
       "|           |  |    - tusimple_lane.tar.gz  |  25.92G |                                                           |\n",
       "|           |  +----------------------------+---------+                                                           |\n",
       "|           |  | - /sample/                 |         |                                                           |\n",
       "|           |  +----------------------------+---------+                                                           |\n",
       "|           |  |    - image/sample_0000.jpg | 160.24K |                                                           |\n",
       "|           |  +----------------------------+---------+                                                           |\n",
       "|           |  |    - image/sample_0001.jpg | 184.88K |                                                           |\n",
       "|           |  +----------------------------+---------+                                                           |\n",
       "|           |  |    - image/sample_0002.jpg | 217.32K |                                                           |\n",
       "|           |  +----------------------------+---------+                                                           |\n",
       "|           |  |    - image/sample_0003.jpg | 229.64K |                                                           |\n",
       "|           |  +----------------------------+---------+                                                           |\n",
       "|           |  |    - image/sample_0004.jpg | 205.95K |                                                           |\n",
       "|           |  +----------------------------+---------+                                                           |\n",
       "|           |  |    - image/sample_0005.jpg | 196.66K |                                                           |\n",
       "|           |  +----------------------------+---------+                                                           |\n",
       "|           |  |    - image/sample_0006.jpg | 171.06K |                                                           |\n",
       "|           |  +----------------------------+---------+                                                           |\n",
       "|           |  |    - image/sample_0007.jpg | 160.54K |                                                           |\n",
       "|           |  +----------------------------+---------+                                                           |\n",
       "|           |  |    - ...                   |         |                                                           |\n",
       "|           |  |   (Showing 8 of 700 files) |         |                                                           |\n",
       "|           |  +----------------------------+---------+                                                           |\n",
       "+-----------+-----------------------------------------------------------------------------------------------------+\n",
       "</pre>\n"
      ],
      "text/plain": [
       "+-----------+-----------------------------------------------------------------------------------------------------+\n",
       "|\u001b[1;36m \u001b[0m\u001b[1;36mField\u001b[0m\u001b[1;36m    \u001b[0m\u001b[1;36m \u001b[0m|\u001b[1;36m \u001b[0m\u001b[1;36mContent\u001b[0m\u001b[1;36m                                                                                            \u001b[0m\u001b[1;36m \u001b[0m|\n",
       "+-----------+-----------------------------------------------------------------------------------------------------+\n",
       "| Name      | OpenDataLab/tusimple_lane                                                                           |\n",
       "+-----------+-----------------------------------------------------------------------------------------------------+\n",
       "| Introduct | Complexity:Good and medium  weather  Condition  Different  daytime  2-lane/3-lane/4-lane/  or  more |\n",
       "| ion       | high...                                                                                             |\n",
       "+-----------+-----------------------------------------------------------------------------------------------------+\n",
       "| Author    | Tusimple                                                                                            |\n",
       "+-----------+-----------------------------------------------------------------------------------------------------+\n",
       "| Data Type |                                                                                                     |\n",
       "+-----------+-----------------------------------------------------------------------------------------------------+\n",
       "| Label     |                                                                                                     |\n",
       "| Type      |                                                                                                     |\n",
       "+-----------+-----------------------------------------------------------------------------------------------------+\n",
       "| Task Type |                                                                                                     |\n",
       "+-----------+-----------------------------------------------------------------------------------------------------+\n",
       "| File List |  Total Size: 26.0G                                                                                  |\n",
       "|           |  +----------------------------+---------+                                                           |\n",
       "|           |  |\u001b[36m \u001b[0m\u001b[36mFile                      \u001b[0m\u001b[36m \u001b[0m|\u001b[36m \u001b[0m\u001b[36m   Size\u001b[0m\u001b[36m \u001b[0m|                                                           |\n",
       "|           |  +----------------------------+---------+                                                           |\n",
       "|           |  | - /                        |         |                                                           |\n",
       "|           |  +----------------------------+---------+                                                           |\n",
       "|           |  |    - README.md             | 652.00B |                                                           |\n",
       "|           |  +----------------------------+---------+                                                           |\n",
       "|           |  |    - metafile.yaml         | 209.00B |                                                           |\n",
       "|           |  +----------------------------+---------+                                                           |\n",
       "|           |  | - /raw/                    |         |                                                           |\n",
       "|           |  +----------------------------+---------+                                                           |\n",
       "|           |  |    - tusimple_lane.tar.gz  |  25.92G |                                                           |\n",
       "|           |  +----------------------------+---------+                                                           |\n",
       "|           |  | - /sample/                 |         |                                                           |\n",
       "|           |  +----------------------------+---------+                                                           |\n",
       "|           |  |    - image/sample_0000.jpg | 160.24K |                                                           |\n",
       "|           |  +----------------------------+---------+                                                           |\n",
       "|           |  |    - image/sample_0001.jpg | 184.88K |                                                           |\n",
       "|           |  +----------------------------+---------+                                                           |\n",
       "|           |  |    - image/sample_0002.jpg | 217.32K |                                                           |\n",
       "|           |  +----------------------------+---------+                                                           |\n",
       "|           |  |    - image/sample_0003.jpg | 229.64K |                                                           |\n",
       "|           |  +----------------------------+---------+                                                           |\n",
       "|           |  |    - image/sample_0004.jpg | 205.95K |                                                           |\n",
       "|           |  +----------------------------+---------+                                                           |\n",
       "|           |  |    - image/sample_0005.jpg | 196.66K |                                                           |\n",
       "|           |  +----------------------------+---------+                                                           |\n",
       "|           |  |    - image/sample_0006.jpg | 171.06K |                                                           |\n",
       "|           |  +----------------------------+---------+                                                           |\n",
       "|           |  |    - image/sample_0007.jpg | 160.54K |                                                           |\n",
       "|           |  +----------------------------+---------+                                                           |\n",
       "|           |  |    - ...                   |         |                                                           |\n",
       "|           |  |   (Showing 8 of 700 files) |         |                                                           |\n",
       "|           |  +----------------------------+---------+                                                           |\n",
       "+-----------+-----------------------------------------------------------------------------------------------------+\n"
      ]
     },
     "metadata": {},
     "output_type": "display_data"
    },
    {
     "data": {
      "text/plain": [
       "{'Name': 'OpenDataLab/tusimple_lane',\n",
       " 'Introduction': 'Complexity:Good and medium weather Condition Different daytime 2-lane/3-lane/4-lane/ or more high...',\n",
       " 'Author': 'Tusimple',\n",
       " 'Data Type': '',\n",
       " 'Label Type': '',\n",
       " 'Task Type': '',\n",
       " 'File List': {'Total size': '26.0G',\n",
       "  '/': {'README.md': '652.00B', 'metafile.yaml': '209.00B'},\n",
       "  '/raw/': {'tusimple_lane.tar.gz': '25.92G'},\n",
       "  '/sample/': {'image/sample_0000.jpg': '160.24K',\n",
       "   'image/sample_0001.jpg': '184.88K',\n",
       "   'image/sample_0002.jpg': '217.32K',\n",
       "   'image/sample_0003.jpg': '229.64K',\n",
       "   'image/sample_0004.jpg': '205.95K',\n",
       "   'image/sample_0005.jpg': '196.66K',\n",
       "   'image/sample_0006.jpg': '171.06K',\n",
       "   'image/sample_0007.jpg': '160.54K',\n",
       "   '...\\n  (Showing 8 of 700 files)': ''}}}"
      ]
     },
     "execution_count": 2,
     "metadata": {},
     "output_type": "execute_result"
    }
   ],
   "source": [
    "import openxlab\n",
    "openxlab.login(ak=\"yz9onvg1kx1o6pkbkzax\", sk=\"noqwba7v0mzjd3kgm74m7kl1wykxvg29rnybp4eo\") #进行登录，输入对应的AK/SK\n",
    "\n",
    "from openxlab.dataset import info\n",
    "info(dataset_repo='OpenDataLab/tusimple_lane') #数据集信息及文件列表查看\n"
   ]
  },
  {
   "cell_type": "code",
   "execution_count": null,
   "metadata": {},
   "outputs": [],
   "source": [
    "\n",
    "from openxlab.dataset import get\n",
    "get(dataset_repo='OpenDataLab/tusimple_lane', target_path='/home/seasoning/lane/datasets/downloads')  # 数据集下载\n",
    "\n",
    "# from openxlab.dataset import download\n",
    "# download(dataset_repo='OpenDataLab/tusimple_lane',source_path='/README.md', target_path='/path/to/local/folder') #数据集文件下载"
   ]
  }
 ],
 "metadata": {
  "kernelspec": {
   "display_name": "clrer",
   "language": "python",
   "name": "python3"
  },
  "language_info": {
   "codemirror_mode": {
    "name": "ipython",
    "version": 3
   },
   "file_extension": ".py",
   "mimetype": "text/x-python",
   "name": "python",
   "nbconvert_exporter": "python",
   "pygments_lexer": "ipython3",
   "version": "3.10.14"
  }
 },
 "nbformat": 4,
 "nbformat_minor": 2
}
